{
 "cells": [
  {
   "cell_type": "code",
   "execution_count": 2,
   "id": "2591cae8",
   "metadata": {},
   "outputs": [
    {
     "name": "stdout",
     "output_type": "stream",
     "text": [
      "Requirement already satisfied: pytube in /Library/Frameworks/Python.framework/Versions/3.10/lib/python3.10/site-packages (12.1.0)\n",
      "Note: you may need to restart the kernel to use updated packages.\n"
     ]
    }
   ],
   "source": [
    "pip install pytube"
   ]
  },
  {
   "cell_type": "code",
   "execution_count": 3,
   "id": "bdd0397d",
   "metadata": {},
   "outputs": [
    {
     "name": "stdout",
     "output_type": "stream",
     "text": [
      "Collecting os_sys\n",
      "  Using cached os_sys-2.1.4-py3-none-any.whl (15.6 MB)\n",
      "Collecting pint>=0.8.1\n",
      "  Using cached Pint-0.20.1-py3-none-any.whl (269 kB)\n",
      "Collecting os_sys\n",
      "  Using cached os_sys-2.1.3-py3-none-any.whl (15.5 MB)\n",
      "  Using cached os_sys-2.1.2-py3-none-any.whl (15.4 MB)\n",
      "  Using cached os_sys-2.1.1-py3-none-any.whl (15.4 MB)\n",
      "  Using cached os_sys-2.1.0-py3-none-any.whl (15.9 MB)\n",
      "  Using cached os_sys-2.0.9-py3-none-any.whl (15.4 MB)\n",
      "  Using cached os_sys-2.0.8-py3-none-any.whl (15.4 MB)\n",
      "  Using cached os_sys-2.0.7-py3-none-any.whl (14.2 MB)\n",
      "  Using cached os_sys-2.0.6-py3-none-any.whl (14.2 MB)\n",
      "  Using cached os_sys-2.0.5-py3-none-any.whl (12.2 MB)\n",
      "Collecting spacy\n",
      "  Downloading spacy-3.4.3-cp310-cp310-macosx_11_0_arm64.whl (6.5 MB)\n",
      "\u001b[2K     \u001b[90m━━━━━━━━━━━━━━━━━━━━━━━━━━━━━━━━━━━━━━━━\u001b[0m \u001b[32m6.5/6.5 MB\u001b[0m \u001b[31m6.2 MB/s\u001b[0m eta \u001b[36m0:00:00\u001b[0m00:01\u001b[0m00:01\u001b[0m\n",
      "\u001b[?25hCollecting os_sys\n",
      "  Using cached os_sys-2.0.4-py3-none-any.whl (50.9 MB)\n",
      "  Using cached os_sys-2.0.3-py3-none-any.whl (51.8 MB)\n",
      "  Using cached os_sys-2.0.2-py3-none-any.whl (54.1 MB)\n",
      "Collecting auto-py-to-exe\n",
      "  Downloading auto_py_to_exe-2.26.0-py2.py3-none-any.whl (101 kB)\n",
      "\u001b[2K     \u001b[90m━━━━━━━━━━━━━━━━━━━━━━━━━━━━━━━━━━━━━━━\u001b[0m \u001b[32m101.0/101.0 kB\u001b[0m \u001b[31m5.2 MB/s\u001b[0m eta \u001b[36m0:00:00\u001b[0m\n",
      "\u001b[?25hRequirement already satisfied: beautifulsoup4 in /Library/Frameworks/Python.framework/Versions/3.10/lib/python3.10/site-packages (from os_sys) (4.11.1)\n",
      "Requirement already satisfied: numpy in /Library/Frameworks/Python.framework/Versions/3.10/lib/python3.10/site-packages (from os_sys) (1.23.0)\n",
      "Collecting mysql-connector\n",
      "  Using cached mysql-connector-2.2.9.tar.gz (11.9 MB)\n",
      "  Preparing metadata (setup.py) ... \u001b[?25ldone\n",
      "\u001b[?25hRequirement already satisfied: pytz in /Library/Frameworks/Python.framework/Versions/3.10/lib/python3.10/site-packages (from os_sys) (2022.1)\n",
      "Requirement already satisfied: jupyter in /Library/Frameworks/Python.framework/Versions/3.10/lib/python3.10/site-packages (from os_sys) (1.0.0)\n",
      "Collecting pynput\n",
      "  Using cached pynput-1.7.6-py2.py3-none-any.whl (89 kB)\n",
      "Collecting Eel\n",
      "  Using cached Eel-0.15.0.tar.gz (23 kB)\n",
      "  Preparing metadata (setup.py) ... \u001b[?25ldone\n",
      "\u001b[?25hCollecting selenium\n",
      "  Downloading selenium-4.6.1-py3-none-any.whl (6.0 MB)\n",
      "\u001b[2K     \u001b[90m━━━━━━━━━━━━━━━━━━━━━━━━━━━━━━━━━━━━━━━━\u001b[0m \u001b[32m6.0/6.0 MB\u001b[0m \u001b[31m7.1 MB/s\u001b[0m eta \u001b[36m0:00:00\u001b[0m00:01\u001b[0m00:01\u001b[0m\n",
      "\u001b[?25hRequirement already satisfied: requests in /Library/Frameworks/Python.framework/Versions/3.10/lib/python3.10/site-packages (from os_sys) (2.28.1)\n",
      "Collecting extract-zip\n",
      "  Using cached extract_zip-1.0.0-py3-none-any.whl (2.6 kB)\n",
      "Collecting Django\n",
      "  Using cached Django-4.1.3-py3-none-any.whl (8.1 MB)\n",
      "Requirement already satisfied: tqdm in /Library/Frameworks/Python.framework/Versions/3.10/lib/python3.10/site-packages (from os_sys) (4.64.1)\n",
      "Collecting pygubu\n",
      "  Using cached pygubu-0.27-py3-none-any.whl (112 kB)\n",
      "Collecting sqlparse\n",
      "  Using cached sqlparse-0.4.3-py3-none-any.whl (42 kB)\n",
      "Collecting progressbar\n",
      "  Using cached progressbar-2.5.tar.gz (10 kB)\n",
      "  Preparing metadata (setup.py) ... \u001b[?25ldone\n",
      "\u001b[?25hRequirement already satisfied: psutil in /Library/Frameworks/Python.framework/Versions/3.10/lib/python3.10/site-packages (from os_sys) (5.9.1)\n",
      "Collecting progress\n",
      "  Using cached progress-1.6.tar.gz (7.8 kB)\n",
      "  Preparing metadata (setup.py) ... \u001b[?25ldone\n",
      "\u001b[?25hRequirement already satisfied: pandas in /Library/Frameworks/Python.framework/Versions/3.10/lib/python3.10/site-packages (from os_sys) (1.4.3)\n",
      "Collecting os_sys\n",
      "  Using cached os_sys-2.0.1-py3-none-any.whl (54.1 MB)\n",
      "  Using cached os_sys-2.0.0-py3-none-any.whl (54.1 MB)\n",
      "  Using cached os_sys-1.9.9-py3-none-any.whl (54.1 MB)\n",
      "  Using cached os_sys-1.9.8-py3-none-any.whl (54.1 MB)\n",
      "  Using cached os_sys-1.9.7-py3-none-any.whl (54.1 MB)\n",
      "  Using cached os_sys-1.9.6-py3-none-any.whl (54.1 MB)\n",
      "  Using cached os_sys-1.9.5-py3-none-any.whl (54.1 MB)\n",
      "  Using cached os_sys-1.9.4-py3-none-any.whl (54.1 MB)\n",
      "  Downloading os_sys-1.9.3-py3-none-any.whl (60.4 MB)\n",
      "\u001b[2K     \u001b[90m━━━━━━━━━━━━━━━━━━━━━━━━━━━━━━━━━━━━━━━━\u001b[0m \u001b[32m60.4/60.4 MB\u001b[0m \u001b[31m5.9 MB/s\u001b[0m eta \u001b[36m0:00:00\u001b[0m00:01\u001b[0m00:01\u001b[0m\n",
      "\u001b[?25h\u001b[31mERROR: os-sys has an invalid wheel, os-sys has an invalid wheel, could not read 'os_sys-1.9.3.dist-info/WHEEL' file: KeyError(\"There is no item named 'os_sys-1.9.3.dist-info/WHEEL' in the archive\")\u001b[0m\u001b[31m\n",
      "\u001b[0mNote: you may need to restart the kernel to use updated packages.\n"
     ]
    }
   ],
   "source": [
    "pip install os_sys"
   ]
  },
  {
   "cell_type": "code",
   "execution_count": 4,
   "id": "faf89321",
   "metadata": {},
   "outputs": [
    {
     "name": "stdout",
     "output_type": "stream",
     "text": [
      "Enter the URL of the video you want to download: \n",
      ">> https://www.beatstars.com/beat/big-beat-switch-drake-type-beat-12968291\n"
     ]
    },
    {
     "ename": "VideoUnavailable",
     "evalue": "big-beat-sw is unavailable",
     "output_type": "error",
     "traceback": [
      "\u001b[0;31m---------------------------------------------------------------------------\u001b[0m",
      "\u001b[0;31mVideoUnavailable\u001b[0m                          Traceback (most recent call last)",
      "Input \u001b[0;32mIn [4]\u001b[0m, in \u001b[0;36m<cell line: 10>\u001b[0;34m()\u001b[0m\n\u001b[1;32m      6\u001b[0m yt \u001b[38;5;241m=\u001b[39m YouTube(\n\u001b[1;32m      7\u001b[0m \t\u001b[38;5;28mstr\u001b[39m(\u001b[38;5;28minput\u001b[39m(\u001b[38;5;124m\"\u001b[39m\u001b[38;5;124mEnter the URL of the video you want to download: \u001b[39m\u001b[38;5;130;01m\\n\u001b[39;00m\u001b[38;5;124m>> \u001b[39m\u001b[38;5;124m\"\u001b[39m)))\n\u001b[1;32m      9\u001b[0m \u001b[38;5;66;03m# extract only audio\u001b[39;00m\n\u001b[0;32m---> 10\u001b[0m video \u001b[38;5;241m=\u001b[39m \u001b[43myt\u001b[49m\u001b[38;5;241;43m.\u001b[39;49m\u001b[43mstreams\u001b[49m\u001b[38;5;241m.\u001b[39mfilter(only_audio\u001b[38;5;241m=\u001b[39m\u001b[38;5;28;01mTrue\u001b[39;00m)\u001b[38;5;241m.\u001b[39mfirst()\n\u001b[1;32m     12\u001b[0m \u001b[38;5;66;03m# check for destination to save file\u001b[39;00m\n\u001b[1;32m     13\u001b[0m \u001b[38;5;28mprint\u001b[39m(\u001b[38;5;124m\"\u001b[39m\u001b[38;5;124mEnter the destination (leave blank for current directory)\u001b[39m\u001b[38;5;124m\"\u001b[39m)\n",
      "File \u001b[0;32m/Library/Frameworks/Python.framework/Versions/3.10/lib/python3.10/site-packages/pytube/__main__.py:295\u001b[0m, in \u001b[0;36mYouTube.streams\u001b[0;34m(self)\u001b[0m\n\u001b[1;32m    289\u001b[0m \u001b[38;5;129m@property\u001b[39m\n\u001b[1;32m    290\u001b[0m \u001b[38;5;28;01mdef\u001b[39;00m \u001b[38;5;21mstreams\u001b[39m(\u001b[38;5;28mself\u001b[39m) \u001b[38;5;241m-\u001b[39m\u001b[38;5;241m>\u001b[39m StreamQuery:\n\u001b[1;32m    291\u001b[0m     \u001b[38;5;124;03m\"\"\"Interface to query both adaptive (DASH) and progressive streams.\u001b[39;00m\n\u001b[1;32m    292\u001b[0m \n\u001b[1;32m    293\u001b[0m \u001b[38;5;124;03m    :rtype: :class:`StreamQuery <StreamQuery>`.\u001b[39;00m\n\u001b[1;32m    294\u001b[0m \u001b[38;5;124;03m    \"\"\"\u001b[39;00m\n\u001b[0;32m--> 295\u001b[0m     \u001b[38;5;28;43mself\u001b[39;49m\u001b[38;5;241;43m.\u001b[39;49m\u001b[43mcheck_availability\u001b[49m\u001b[43m(\u001b[49m\u001b[43m)\u001b[49m\n\u001b[1;32m    296\u001b[0m     \u001b[38;5;28;01mreturn\u001b[39;00m StreamQuery(\u001b[38;5;28mself\u001b[39m\u001b[38;5;241m.\u001b[39mfmt_streams)\n",
      "File \u001b[0;32m/Library/Frameworks/Python.framework/Versions/3.10/lib/python3.10/site-packages/pytube/__main__.py:231\u001b[0m, in \u001b[0;36mYouTube.check_availability\u001b[0;34m(self)\u001b[0m\n\u001b[1;32m    229\u001b[0m \u001b[38;5;28;01melif\u001b[39;00m status \u001b[38;5;241m==\u001b[39m \u001b[38;5;124m'\u001b[39m\u001b[38;5;124mERROR\u001b[39m\u001b[38;5;124m'\u001b[39m:\n\u001b[1;32m    230\u001b[0m     \u001b[38;5;28;01mif\u001b[39;00m reason \u001b[38;5;241m==\u001b[39m \u001b[38;5;124m'\u001b[39m\u001b[38;5;124mVideo unavailable\u001b[39m\u001b[38;5;124m'\u001b[39m:\n\u001b[0;32m--> 231\u001b[0m         \u001b[38;5;28;01mraise\u001b[39;00m exceptions\u001b[38;5;241m.\u001b[39mVideoUnavailable(video_id\u001b[38;5;241m=\u001b[39m\u001b[38;5;28mself\u001b[39m\u001b[38;5;241m.\u001b[39mvideo_id)\n\u001b[1;32m    232\u001b[0m \u001b[38;5;28;01melif\u001b[39;00m status \u001b[38;5;241m==\u001b[39m \u001b[38;5;124m'\u001b[39m\u001b[38;5;124mLIVE_STREAM\u001b[39m\u001b[38;5;124m'\u001b[39m:\n\u001b[1;32m    233\u001b[0m     \u001b[38;5;28;01mraise\u001b[39;00m exceptions\u001b[38;5;241m.\u001b[39mLiveStreamError(video_id\u001b[38;5;241m=\u001b[39m\u001b[38;5;28mself\u001b[39m\u001b[38;5;241m.\u001b[39mvideo_id)\n",
      "\u001b[0;31mVideoUnavailable\u001b[0m: big-beat-sw is unavailable"
     ]
    }
   ],
   "source": [
    "# importing packages\n",
    "from pytube import YouTube\n",
    "import os\n",
    "\n",
    "# url input from user\n",
    "yt = YouTube(\n",
    "\tstr(input(\"Enter the URL of the video you want to download: \\n>> \")))\n",
    "\n",
    "# extract only audio\n",
    "video = yt.streams.filter(only_audio=True).first()\n",
    "\n",
    "# check for destination to save file\n",
    "print(\"Enter the destination (leave blank for current directory)\")\n",
    "destination = str(input(\">> \")) or '.'\n",
    "\n",
    "# download the file\n",
    "out_file = video.download(output_path=destination)\n",
    "\n",
    "# save the file\n",
    "base, ext = os.path.splitext(out_file)\n",
    "new_file = base + '.mp3'\n",
    "os.rename(out_file, new_file)\n",
    "\n",
    "# result of success\n",
    "print(yt.title + \" has been successfully downloaded.\")\n"
   ]
  },
  {
   "cell_type": "code",
   "execution_count": 7,
   "id": "60c45199",
   "metadata": {},
   "outputs": [
    {
     "name": "stdout",
     "output_type": "stream",
     "text": [
      "░█▀▀░█▄█░█▀▀░█▀▄░█▀▀░█▀▀░█▀█░█▀▀░█░█░░░░░█▀▄░█▀▀░█▀█░▀█▀\n",
      "░█▀▀░█░█░█▀▀░█▀▄░█░█░█▀▀░█░█░█░░░░█░░░░░░█▀▄░█▀▀░█▀█░░█░\n",
      "░▀▀▀░▀░▀░▀▀▀░▀░▀░▀▀▀░▀▀▀░▀░▀░▀▀▀░░▀░░▀▀▀░▀▀░░▀▀▀░▀░▀░░▀░\n",
      "        beatstars downloader by lovegap \n",
      "         \n",
      "id: 13386087\n",
      "name(optional): \n",
      "tu beat se ha descargado en /Users/educontreras/PycharmProjects/Memoire-Model\\beat.mp3\n"
     ]
    }
   ],
   "source": [
    "import requests, urllib.request, sys, os, time, ssl\n",
    "\n",
    "try:\n",
    "    if sys.platform.startswith('linux'):\n",
    "        os.system(\"clear\")\n",
    "    elif sys.platform.startswith('win32'):\n",
    "        os.system(\"cls\")\n",
    "except:\n",
    "    pass\n",
    "    \n",
    "print(\"░█▀▀░█▄█░█▀▀░█▀▄░█▀▀░█▀▀░█▀█░█▀▀░█░█░░░░░█▀▄░█▀▀░█▀█░▀█▀\".center(50))\n",
    "print(\"░█▀▀░█░█░█▀▀░█▀▄░█░█░█▀▀░█░█░█░░░░█░░░░░░█▀▄░█▀▀░█▀█░░█░\".center(50))\n",
    "print(\"░▀▀▀░▀░▀░▀▀▀░▀░▀░▀▀▀░▀▀▀░▀░▀░▀▀▀░░▀░░▀▀▀░▀▀░░▀▀▀░▀░▀░░▀░\".center(50))\n",
    "print(\"beatstars downloader by lovegap \\n\".center(50))\n",
    "song_id = input(\"id: \")\n",
    "name = input(\"name(optional): \")\n",
    "\n",
    "ssl._create_default_https_context = ssl._create_unverified_context\n",
    "if len(name) <= 0:\n",
    "    name = \"beat.mp3\"\n",
    "else:\n",
    "    name = f\"{name}.mp3\"\n",
    "\n",
    "song_url = f\"https://main.v2.beatstars.com/stream?id={song_id}&return=audio\"\n",
    "def resolve(url):\n",
    "    return urllib.request.urlopen(url).geturl()\n",
    "\n",
    "r = requests.get(resolve(song_url))\n",
    "\n",
    "with open(f\"{name}\", 'wb') as f:\n",
    "    f.write(r.content)\n",
    "    print(f\"tu beat se ha descargado en {os.getcwd()}\\\\{name}\")\n",
    "    exit()"
   ]
  },
  {
   "cell_type": "code",
   "execution_count": null,
   "id": "eec65f8c",
   "metadata": {},
   "outputs": [],
   "source": []
  }
 ],
 "metadata": {
  "kernelspec": {
   "display_name": "Python 3 (ipykernel)",
   "language": "python",
   "name": "python3"
  },
  "language_info": {
   "codemirror_mode": {
    "name": "ipython",
    "version": 3
   },
   "file_extension": ".py",
   "mimetype": "text/x-python",
   "name": "python",
   "nbconvert_exporter": "python",
   "pygments_lexer": "ipython3",
   "version": "3.10.5"
  }
 },
 "nbformat": 4,
 "nbformat_minor": 5
}
